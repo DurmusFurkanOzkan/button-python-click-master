{
 "cells": [
  {
   "cell_type": "code",
   "execution_count": 1,
   "id": "0802ace2",
   "metadata": {},
   "outputs": [
    {
     "name": "stdout",
     "output_type": "stream",
     "text": [
      " * Serving Flask app '__main__' (lazy loading)\n",
      " * Environment: production\n",
      "   WARNING: This is a development server. Do not use it in a production deployment.\n",
      "   Use a production WSGI server instead.\n",
      " * Debug mode: on\n"
     ]
    },
    {
     "name": "stderr",
     "output_type": "stream",
     "text": [
      " * Restarting with watchdog (windowsapi)\n"
     ]
    },
    {
     "ename": "SystemExit",
     "evalue": "1",
     "output_type": "error",
     "traceback": [
      "An exception has occurred, use %tb to see the full traceback.\n",
      "\u001b[1;31mSystemExit\u001b[0m\u001b[1;31m:\u001b[0m 1\n"
     ]
    },
    {
     "name": "stderr",
     "output_type": "stream",
     "text": [
      "C:\\Users\\Furkan\\anaconda3\\lib\\site-packages\\IPython\\core\\interactiveshell.py:3445: UserWarning: To exit: use 'exit', 'quit', or Ctrl-D.\n",
      "  warn(\"To exit: use 'exit', 'quit', or Ctrl-D.\", stacklevel=1)\n"
     ]
    }
   ],
   "source": [
    "from flask import Flask,request,render_template,redirect\n",
    "import os\n",
    "app = Flask(__name__)\n",
    "\n",
    "\n",
    "app.config[\"IMAGE_UPLOADS\"] = \"/Users/Carl/Desktop/Playlist/HTML Button 3/static/Images\"\n",
    "#app.config[\"ALLOWED_IMAGE_EXTENSIONS\"] = [\"PNG\",\"JPG\",\"JPEG\"]\n",
    "\n",
    "from werkzeug.utils import secure_filename\n",
    "\n",
    "\n",
    "@app.route('/home',methods = [\"GET\",\"POST\"])\n",
    "def upload_image():\n",
    "\tif request.method == \"POST\":\n",
    "\t\timage = request.files['file']\n",
    "\n",
    "\t\tif image.filename == '':\n",
    "\t\t\tprint(\"Image must have a file name\")\n",
    "\t\t\treturn redirect(request.url)\n",
    "\n",
    "\n",
    "\t\tfilename = secure_filename(image.filename)\n",
    "\n",
    "\t\tbasedir = os.path.abspath(os.path.dirname(__file__))\n",
    "\t\timage.save(os.path.join(basedir,app.config[\"IMAGE_UPLOADS\"],filename))\n",
    "\n",
    "\t\treturn render_template(\"main.html\",filename=filename)\n",
    "\n",
    "\n",
    "\n",
    "\treturn render_template('main.html')\n",
    "\n",
    "\n",
    "@app.route('/display/<filename>')\n",
    "def display_image(filename):\n",
    "\treturn redirect(url_for('static',filename = \"/Images\" + filename), code=301)\n",
    "\n",
    "\n",
    "app.run(debug=True,port=2000)\n"
   ]
  },
  {
   "cell_type": "code",
   "execution_count": null,
   "id": "94a41c3c",
   "metadata": {},
   "outputs": [],
   "source": []
  },
  {
   "cell_type": "code",
   "execution_count": null,
   "id": "0de87b15",
   "metadata": {},
   "outputs": [],
   "source": []
  }
 ],
 "metadata": {
  "kernelspec": {
   "display_name": "Python 3",
   "language": "python",
   "name": "python3"
  },
  "language_info": {
   "codemirror_mode": {
    "name": "ipython",
    "version": 3
   },
   "file_extension": ".py",
   "mimetype": "text/x-python",
   "name": "python",
   "nbconvert_exporter": "python",
   "pygments_lexer": "ipython3",
   "version": "3.8.8"
  }
 },
 "nbformat": 4,
 "nbformat_minor": 5
}
